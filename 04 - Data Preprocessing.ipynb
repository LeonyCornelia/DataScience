{
 "cells": [
  {
   "cell_type": "code",
   "execution_count": null,
   "id": "d98d00b1-a5db-493c-84ca-123f3ad9ef41",
   "metadata": {},
   "outputs": [],
   "source": [
    "#LeonyCornelia-2373002"
   ]
  },
  {
   "cell_type": "code",
   "execution_count": null,
   "id": "dd285759-245d-4693-b591-1922acc15a9a",
   "metadata": {},
   "outputs": [],
   "source": [
    "Sample Dataset"
   ]
  },
  {
   "cell_type": "code",
   "execution_count": 2,
   "id": "9412fc86-56da-4ac4-917b-f1087c690faf",
   "metadata": {},
   "outputs": [
    {
     "data": {
      "text/plain": [
       "array([[ 2.1, -1.9,  5.5],\n",
       "       [-1.5,  2.4,  3.5],\n",
       "       [ 0.5, -7.9,  5.6],\n",
       "       [ 5.9,  2.3, -5.8]])"
      ]
     },
     "execution_count": 2,
     "metadata": {},
     "output_type": "execute_result"
    }
   ],
   "source": [
    "import numpy as np\n",
    "from sklearn import preprocessing\n",
    "\n",
    "sample_data = np.array([[2.1, -1.9, 5.5], \n",
    "                        [-1.5, 2.4, 3.5], \n",
    "                        [0.5, -7.9, 5.6],\n",
    "                        [5.9, 2.3, -5.8]])\n",
    "\n",
    "sample_data"
   ]
  },
  {
   "cell_type": "code",
   "execution_count": 3,
   "id": "40f4339c-3bb2-4700-9429-eaff00a0f794",
   "metadata": {},
   "outputs": [
    {
     "data": {
      "text/plain": [
       "(4, 3)"
      ]
     },
     "execution_count": 3,
     "metadata": {},
     "output_type": "execute_result"
    }
   ],
   "source": [
    "sample_data.shape"
   ]
  },
  {
   "cell_type": "code",
   "execution_count": null,
   "id": "6b859b80-c3ae-410d-8fd1-86631790f096",
   "metadata": {},
   "outputs": [],
   "source": [
    "Binarisation"
   ]
  },
  {
   "cell_type": "code",
   "execution_count": 4,
   "id": "9ada9046-aed8-4ece-a69c-49c0cdf10df5",
   "metadata": {},
   "outputs": [
    {
     "data": {
      "text/plain": [
       "array([[ 2.1, -1.9,  5.5],\n",
       "       [-1.5,  2.4,  3.5],\n",
       "       [ 0.5, -7.9,  5.6],\n",
       "       [ 5.9,  2.3, -5.8]])"
      ]
     },
     "execution_count": 4,
     "metadata": {},
     "output_type": "execute_result"
    }
   ],
   "source": [
    "sample_data"
   ]
  },
  {
   "cell_type": "code",
   "execution_count": 5,
   "id": "0bbaa5cd-f392-4c91-9636-263d249a81fe",
   "metadata": {},
   "outputs": [
    {
     "data": {
      "text/plain": [
       "array([[1., 0., 1.],\n",
       "       [0., 1., 1.],\n",
       "       [0., 0., 1.],\n",
       "       [1., 1., 0.]])"
      ]
     },
     "execution_count": 5,
     "metadata": {},
     "output_type": "execute_result"
    }
   ],
   "source": [
    "preprocessor = preprocessing.Binarizer(threshold=0.5)\n",
    "binarised_data = preprocessor.transform(sample_data)\n",
    "binarised_data"
   ]
  },
  {
   "cell_type": "code",
   "execution_count": null,
   "id": "19e7ee83-f112-4a3c-9c70-e4119883ea8b",
   "metadata": {},
   "outputs": [],
   "source": [
    "Scaling"
   ]
  },
  {
   "cell_type": "code",
   "execution_count": 6,
   "id": "75220fc7-76ac-4e6f-a912-ad021c54b6a4",
   "metadata": {},
   "outputs": [
    {
     "data": {
      "text/plain": [
       "array([[ 2.1, -1.9,  5.5],\n",
       "       [-1.5,  2.4,  3.5],\n",
       "       [ 0.5, -7.9,  5.6],\n",
       "       [ 5.9,  2.3, -5.8]])"
      ]
     },
     "execution_count": 6,
     "metadata": {},
     "output_type": "execute_result"
    }
   ],
   "source": [
    "sample_data"
   ]
  },
  {
   "cell_type": "code",
   "execution_count": 7,
   "id": "e8bfb02f-34bd-4d1c-af9e-246bbfa0b9f2",
   "metadata": {},
   "outputs": [
    {
     "data": {
      "text/plain": [
       "array([[0.48648649, 0.58252427, 0.99122807],\n",
       "       [0.        , 1.        , 0.81578947],\n",
       "       [0.27027027, 0.        , 1.        ],\n",
       "       [1.        , 0.99029126, 0.        ]])"
      ]
     },
     "execution_count": 7,
     "metadata": {},
     "output_type": "execute_result"
    }
   ],
   "source": [
    "preprocessor = preprocessing.MinMaxScaler(feature_range=(0, 1))\n",
    "preprocessor.fit(sample_data)\n",
    "scaled_data = preprocessor.transform(sample_data)\n",
    "scaled_data"
   ]
  },
  {
   "cell_type": "code",
   "execution_count": 8,
   "id": "19f54a95-4624-46df-943d-55f6ff92d294",
   "metadata": {},
   "outputs": [
    {
     "data": {
      "text/plain": [
       "array([[0.48648649, 0.58252427, 0.99122807],\n",
       "       [0.        , 1.        , 0.81578947],\n",
       "       [0.27027027, 0.        , 1.        ],\n",
       "       [1.        , 0.99029126, 0.        ]])"
      ]
     },
     "execution_count": 8,
     "metadata": {},
     "output_type": "execute_result"
    }
   ],
   "source": [
    "scaled_data = preprocessor.fit_transform(sample_data)\n",
    "scaled_data"
   ]
  },
  {
   "cell_type": "code",
   "execution_count": null,
   "id": "a121a15b-2cee-40aa-a511-1aa50ab696a0",
   "metadata": {},
   "outputs": [],
   "source": [
    "L1 Normalisation: Least Absolute Deviations"
   ]
  },
  {
   "cell_type": "code",
   "execution_count": 9,
   "id": "43966ef2-0ddd-4e81-b800-b12635dc7bf7",
   "metadata": {},
   "outputs": [
    {
     "data": {
      "text/plain": [
       "array([[ 2.1, -1.9,  5.5],\n",
       "       [-1.5,  2.4,  3.5],\n",
       "       [ 0.5, -7.9,  5.6],\n",
       "       [ 5.9,  2.3, -5.8]])"
      ]
     },
     "execution_count": 9,
     "metadata": {},
     "output_type": "execute_result"
    }
   ],
   "source": [
    "sample_data"
   ]
  },
  {
   "cell_type": "code",
   "execution_count": 10,
   "id": "8e531fde-cb83-48e8-ae30-cf43a222cde2",
   "metadata": {},
   "outputs": [
    {
     "data": {
      "text/plain": [
       "array([[ 0.22105263, -0.2       ,  0.57894737],\n",
       "       [-0.2027027 ,  0.32432432,  0.47297297],\n",
       "       [ 0.03571429, -0.56428571,  0.4       ],\n",
       "       [ 0.42142857,  0.16428571, -0.41428571]])"
      ]
     },
     "execution_count": 10,
     "metadata": {},
     "output_type": "execute_result"
    }
   ],
   "source": [
    "l1_normalised_data = preprocessing.normalize(sample_data, norm='l1')\n",
    "l1_normalised_data"
   ]
  },
  {
   "cell_type": "code",
   "execution_count": null,
   "id": "7b0462dd-1298-4f81-9b68-2694d733714f",
   "metadata": {},
   "outputs": [],
   "source": [
    "L2 Normalisation: Least Squares"
   ]
  },
  {
   "cell_type": "code",
   "execution_count": 11,
   "id": "5fef09b3-f9bd-493e-931c-cb073964108b",
   "metadata": {},
   "outputs": [
    {
     "data": {
      "text/plain": [
       "array([[ 2.1, -1.9,  5.5],\n",
       "       [-1.5,  2.4,  3.5],\n",
       "       [ 0.5, -7.9,  5.6],\n",
       "       [ 5.9,  2.3, -5.8]])"
      ]
     },
     "execution_count": 11,
     "metadata": {},
     "output_type": "execute_result"
    }
   ],
   "source": [
    "sample_data"
   ]
  },
  {
   "cell_type": "code",
   "execution_count": 12,
   "id": "a74d9e09-5098-4877-9685-076a5b4bb2d7",
   "metadata": {},
   "outputs": [
    {
     "data": {
      "text/plain": [
       "array([[ 0.33946114, -0.30713151,  0.88906489],\n",
       "       [-0.33325106,  0.53320169,  0.7775858 ],\n",
       "       [ 0.05156558, -0.81473612,  0.57753446],\n",
       "       [ 0.68706914,  0.26784051, -0.6754239 ]])"
      ]
     },
     "execution_count": 12,
     "metadata": {},
     "output_type": "execute_result"
    }
   ],
   "source": [
    "l2_normalised_data = preprocessing.normalize(sample_data, norm='l2')\n",
    "l2_normalised_data"
   ]
  },
  {
   "cell_type": "code",
   "execution_count": null,
   "id": "bc5da0d4-2128-4340-9e2b-f0577d997be9",
   "metadata": {},
   "outputs": [],
   "source": []
  }
 ],
 "metadata": {
  "kernelspec": {
   "display_name": "anaconda-ai-2024.04-py310",
   "language": "python",
   "name": "conda-env-anaconda-ai-2024.04-py310-py"
  },
  "language_info": {
   "codemirror_mode": {
    "name": "ipython",
    "version": 3
   },
   "file_extension": ".py",
   "mimetype": "text/x-python",
   "name": "python",
   "nbconvert_exporter": "python",
   "pygments_lexer": "ipython3",
   "version": "3.10.13"
  }
 },
 "nbformat": 4,
 "nbformat_minor": 5
}
